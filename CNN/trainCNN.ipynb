{
 "cells": [
  {
   "cell_type": "code",
   "execution_count": 1,
   "metadata": {},
   "outputs": [
    {
     "name": "stderr",
     "output_type": "stream",
     "text": [
      "[nltk_data] Downloading package punkt to\n",
      "[nltk_data]     C:\\Users\\karam\\AppData\\Roaming\\nltk_data...\n",
      "[nltk_data]   Package punkt is already up-to-date!\n",
      "[nltk_data] Downloading package punkt_tab to\n",
      "[nltk_data]     C:\\Users\\karam\\AppData\\Roaming\\nltk_data...\n",
      "[nltk_data]   Package punkt_tab is already up-to-date!\n",
      "[nltk_data] Downloading package stopwords to\n",
      "[nltk_data]     C:\\Users\\karam\\AppData\\Roaming\\nltk_data...\n",
      "[nltk_data]   Package stopwords is already up-to-date!\n"
     ]
    }
   ],
   "source": [
    "import os\n",
    "import csv\n",
    "import numpy as np\n",
    "import pandas as pd\n",
    "from nltk.corpus import stopwords\n",
    "import matplotlib.pyplot as plt\n",
    "import re\n",
    "import pyarabic.araby as araby\n",
    "import nltk\n",
    "from nltk.corpus import stopwords\n",
    "nltk.download('punkt')\n",
    "nltk.download('punkt_tab')\n",
    "nltk.download('stopwords')\n",
    "from gensim.models import Word2Vec\n",
    "from sklearn.model_selection import train_test_split\n",
    "from tensorflow.keras.layers import *\n",
    "from tensorflow.keras.preprocessing.text import Tokenizer\n",
    "from tensorflow.keras.preprocessing.sequence import pad_sequences\n",
    "from tensorflow.keras.models import Sequential\n",
    "from tensorflow.keras.callbacks import EarlyStopping, ModelCheckpoint\n",
    "from sklearn.metrics import precision_score, recall_score\n",
    "from tensorflow.keras.preprocessing.text import Tokenizer\n",
    "from keras.models import Sequential\n",
    "from keras.layers import Embedding, Conv1D, GlobalMaxPooling1D, Dropout, Dense\n",
    "from keras.optimizers import Adam\n",
    "from nltk.stem import ISRIStemmer"
   ]
  },
  {
   "cell_type": "code",
   "execution_count": 2,
   "metadata": {},
   "outputs": [
    {
     "name": "stdout",
     "output_type": "stream",
     "text": [
      "Successfully cataloged all files into all_topics_numbered.csv\n"
     ]
    }
   ],
   "source": [
    "def remove_stop_words(text):\n",
    "    arabic_stopwords = set(stopwords.words('arabic'))\n",
    "    words = text.split()\n",
    "    filtered_words = [word for word in words if word not in arabic_stopwords]\n",
    "    return ' '.join(filtered_words)\n",
    "\n",
    "def arabic_stemmer(text):\n",
    "        Arabic_Stemmer = ISRIStemmer()\n",
    "        text = [Arabic_Stemmer.stem(y) for y in text.split()]\n",
    "        return \" \".join(text)\n",
    "\n",
    "def normalize_arabic(text):\n",
    "    text = text.strip()\n",
    "    text = re.sub(\"ى\", \"ي\", text)\n",
    "    text = re.sub(\"ؤ\", \"ء\", text)\n",
    "    text = re.sub(\"ئ\", \"ء\", text)\n",
    "    text = re.sub(\"ة\", \"ه\", text)\n",
    "    text = re.sub(\"[إأٱآا]\", \"ا\", text)\n",
    "    text = text.replace('وو', 'و')\n",
    "    text = text.replace('يي', 'ي')\n",
    "    text = text.replace('ييي', 'ي')\n",
    "    text = text.replace('اا', 'ا')\n",
    "    text = re.sub('\\s+', ' ', text)\n",
    "    text = re.sub(r'(.)\\1+', r\"\\1\\1\", text) \n",
    "    text = araby.strip_tashkeel(text)\n",
    "    text = araby.strip_diacritics(text)\n",
    "    text=''.join([i for i in text if not i.isdigit()])\n",
    "    return text\n",
    "\n",
    "def clean_text(text):\n",
    "    text = re.sub('[%s]' % re.escape(\"\"\"!\"#$%&'()*+,،-./:;<=>؟?@[\\]^_`{|}~\"\"\"), ' ', text)\n",
    "    text = text.replace('؛',\"\", )\n",
    "    text = re.sub('\\s+', ' ', text)\n",
    "    text =  \" \".join(text.split())\n",
    "    text = re.sub('[A-Za-z]+',' ',text)\n",
    "    text = ''.join([i for i in text if not i.isdigit()])\n",
    "    return text.strip()\n",
    "\n",
    "def remove_urls(text):\n",
    "    url_pattern = re.compile(r'https?://\\S+|www\\.\\S+')\n",
    "    return url_pattern.sub(r'', text)\n",
    "\n",
    "def remove_extra_Space(text):\n",
    "    text = re.sub('\\s+', ' ', text)\n",
    "    return  \" \".join(text.split())\n",
    "\n",
    "archive_folder = 'C:\\\\Path\\\\to\\\\data'\n",
    "output_csv = 'all_topics_numbered.csv'\n",
    "\n",
    "with open(output_csv, mode='w', newline='', encoding='utf-8') as csv_file:\n",
    "    writer = csv.writer(csv_file)\n",
    "    \n",
    "    writer.writerow(['Filename', 'Content', 'Topic'])\n",
    "    \n",
    "    texts = []\n",
    "    categories = []\n",
    "    \n",
    "    for folder_name in os.listdir(archive_folder):\n",
    "        folder_path = os.path.join(archive_folder, folder_name)\n",
    "        \n",
    "        if os.path.isdir(folder_path):\n",
    "            topic = folder_name  \n",
    "            \n",
    "            for txt_file in os.listdir(folder_path):\n",
    "                if txt_file.endswith('.txt'):\n",
    "                    txt_path = os.path.join(folder_path, txt_file)\n",
    "                    \n",
    "                    with open(txt_path, 'r', encoding='utf-8') as file:\n",
    "                        content = file.read()\n",
    "                    \n",
    "                        content = remove_urls(content)\n",
    "                        content = clean_text(content)\n",
    "                        content = remove_stop_words(content)\n",
    "                        content = normalize_arabic(content)\n",
    "                        content = remove_extra_Space(content)\n",
    "                        content = arabic_stemmer(content)\n",
    "                        tokenizer = nltk.RegexpTokenizer(r\"\\w+\")\n",
    "                        content = tokenizer.tokenize(content)\n",
    "                        \n",
    "                        writer.writerow([txt_file, content, topic])\n",
    "                        \n",
    "                        texts.append(content)\n",
    "                        categories.append(topic)\n",
    "\n",
    "print(f\"Successfully cataloged all files into {output_csv}\")\n",
    "\n",
    "df = pd.read_csv(output_csv)\n",
    "\n",
    "# Drop the 'Filename' column\n",
    "df = df.drop(df.columns[0], axis=1)\n",
    "\n",
    "df.drop_duplicates(subset='Content', inplace=True)\n",
    "\n",
    "df = df[df['Topic'] != 'Tech']"
   ]
  },
  {
   "cell_type": "code",
   "execution_count": 3,
   "metadata": {},
   "outputs": [
    {
     "name": "stderr",
     "output_type": "stream",
     "text": [
      "C:\\Users\\karam\\AppData\\Local\\Temp\\ipykernel_20636\\2394818531.py:2: FutureWarning: The error_bad_lines argument has been deprecated and will be removed in a future version. Use on_bad_lines in the future.\n",
      "\n",
      "\n",
      "  df = pd.read_csv(output_csv, error_bad_lines=False)\n"
     ]
    },
    {
     "name": "stdout",
     "output_type": "stream",
     "text": [
      "                                             Content    Topic\n",
      "0  ['نظم', 'عهد', 'شرق', 'فنن', 'عرض', 'فنا', 'عن...  Culture\n",
      "1  ['تقم', 'فنن', 'ليت', 'كابيلو', 'عرض', 'طلع', ...  Culture\n",
      "2  ['وصل', 'ليل', 'سير', 'تحد', 'تعه', 'ثره', 'ضم...  Culture\n",
      "3  ['عقد', 'ظهر', 'اول', 'قصر', 'ثقف', 'شرق', 'جل...  Culture\n",
      "4  ['خار', 'صحف', 'التايمز', 'جورج', 'رول', 'يحل'...  Culture\n"
     ]
    }
   ],
   "source": [
    "# Read the CSV file using pandas\n",
    "df = pd.read_csv(output_csv, error_bad_lines=False)\n",
    "\n",
    "df = df.drop(df.columns[0], axis=1)\n",
    "\n",
    "print(df.head())"
   ]
  },
  {
   "cell_type": "code",
   "execution_count": 4,
   "metadata": {},
   "outputs": [
    {
     "data": {
      "image/png": "[encoded data removed]",
      "text/plain": [
       "<Figure size 800x400 with 1 Axes>"
      ]
     },
     "metadata": {},
     "output_type": "display_data"
    },
    {
     "name": "stdout",
     "output_type": "stream",
     "text": [
      "Medical     6500\n",
      "Politics    6499\n",
      "Sports      6499\n",
      "Culture     6495\n",
      "Finance     6495\n",
      "Religion    6488\n",
      "Tech        2516\n",
      "Name: Topic, dtype: int64\n",
      "Updated dataset topic distribution:\n",
      "Medical     6500\n",
      "Politics    6499\n",
      "Sports      6499\n",
      "Culture     6495\n",
      "Finance     6495\n",
      "Religion    6488\n",
      "Name: Topic, dtype: int64\n"
     ]
    }
   ],
   "source": [
    "# Remove duplicates based on the 'Content' column\n",
    "df.drop_duplicates(subset='Content', inplace=True)\n",
    "\n",
    "# Set figure size\n",
    "plt.figure(figsize=(8, 4))\n",
    "\n",
    "# Create a bar plot for the value counts in 'label' column using pandas\n",
    "df['Topic'].value_counts().plot(kind='bar')\n",
    "\n",
    "# Display the plot to check if dataset is balanced\n",
    "plt.show()\n",
    "# Assuming df is the DataFrame that contains your data\n",
    "print(df['Topic'].value_counts())\n",
    "\n",
    "# Filter out the rows where the 'Topic' column has the value 'tech' since it is unbalanced\n",
    "df = df[df['Topic'] != 'Tech']\n",
    "\n",
    "# Verify that the 'Tech' topic is removed and duplicates are dropped\n",
    "print(\"Updated dataset topic distribution:\")\n",
    "print(df['Topic'].value_counts())\n",
    "\n"
   ]
  },
  {
   "cell_type": "code",
   "execution_count": 5,
   "metadata": {},
   "outputs": [
    {
     "name": "stdout",
     "output_type": "stream",
     "text": [
      "0        نظم عهد شرق فنن عرض فنا عنو بقه الف وذل سعه ال...\n",
      "1        تقم فنن كابيلو عرض طلع عام دبي يضم عرض لوح ركز...\n",
      "2        وصل ليل سير تحد تعه ثره ضمن يرق لقب شعر ملي نس...\n",
      "3        عقد ظهر اول قصر ثقف شرق جلس ثني اخر جلس لقي او...\n",
      "4        خار صحف يمز جورج رول يحل ربه ثني قءم تضم عظم ك...\n",
      "                               ...                        \n",
      "38995    قدم ندي شتوتغارت الم لعب جدد وهم دفع فنو يلز ل...\n",
      "38996    قاد ثنء است فيل دار بنت وشل ونغ نخب جلتر فوز ع...\n",
      "38997    ناي فيس ديل بوس درب نخب سبن جري ربل ومس وقل ءم...\n",
      "38998    قال ايف كوريتخ دير عمل لعب خضرم شفي هيرنانديز ...\n",
      "38999    فاز اسب رافايل ادل صنف حمل لقب اوزبكستا دينيس ...\n",
      "Name: Content, Length: 38976, dtype: object\n"
     ]
    }
   ],
   "source": [
    "# Apply the preprocessing functions to the text data\n",
    "df['Content'] = df['Content'].apply(remove_urls)\n",
    "df['Content'] = df['Content'].apply(clean_text)\n",
    "df['Content'] = df['Content'].apply(remove_stop_words)\n",
    "df['Content'] = df['Content'].apply(normalize_arabic)\n",
    "df['Content'] = df['Content'].apply(remove_extra_Space)\n",
    "df['Content'] = df['Content'].apply(arabic_stemmer)\n",
    "\n",
    "# Print the preprocessed text data\n",
    "print(df['Content'])"
   ]
  },
  {
   "cell_type": "code",
   "execution_count": 6,
   "metadata": {},
   "outputs": [
    {
     "name": "stdout",
     "output_type": "stream",
     "text": [
      "Epoch 1/5\n",
      "\u001b[1m250/250\u001b[0m \u001b[32m━━━━━━━━━━━━━━━━━━━━\u001b[0m\u001b[37m\u001b[0m \u001b[1m1095s\u001b[0m 4s/step - accuracy: 0.7013 - loss: 0.9313 - precision: 0.8930 - recall: 0.4509 - val_accuracy: 0.9562 - val_loss: 0.1406 - val_precision: 0.9679 - val_recall: 0.9418\n",
      "Epoch 2/5\n",
      "\u001b[1m250/250\u001b[0m \u001b[32m━━━━━━━━━━━━━━━━━━━━\u001b[0m\u001b[37m\u001b[0m \u001b[1m1377s\u001b[0m 6s/step - accuracy: 0.9445 - loss: 0.1795 - precision: 0.9565 - recall: 0.9331 - val_accuracy: 0.9703 - val_loss: 0.0976 - val_precision: 0.9767 - val_recall: 0.9620\n",
      "Epoch 3/5\n",
      "\u001b[1m250/250\u001b[0m \u001b[32m━━━━━━━━━━━━━━━━━━━━\u001b[0m\u001b[37m\u001b[0m \u001b[1m1329s\u001b[0m 5s/step - accuracy: 0.9648 - loss: 0.1100 - precision: 0.9717 - recall: 0.9585 - val_accuracy: 0.9721 - val_loss: 0.0858 - val_precision: 0.9789 - val_recall: 0.9671\n",
      "Epoch 4/5\n",
      "\u001b[1m250/250\u001b[0m \u001b[32m━━━━━━━━━━━━━━━━━━━━\u001b[0m\u001b[37m\u001b[0m \u001b[1m1366s\u001b[0m 5s/step - accuracy: 0.9786 - loss: 0.0731 - precision: 0.9824 - recall: 0.9745 - val_accuracy: 0.9737 - val_loss: 0.0805 - val_precision: 0.9785 - val_recall: 0.9695\n",
      "Epoch 5/5\n",
      "\u001b[1m250/250\u001b[0m \u001b[32m━━━━━━━━━━━━━━━━━━━━\u001b[0m\u001b[37m\u001b[0m \u001b[1m962s\u001b[0m 4s/step - accuracy: 0.9867 - loss: 0.0466 - precision: 0.9889 - recall: 0.9840 - val_accuracy: 0.9759 - val_loss: 0.0788 - val_precision: 0.9803 - val_recall: 0.9726\n",
      "\u001b[1m78/78\u001b[0m \u001b[32m━━━━━━━━━━━━━━━━━━━━\u001b[0m\u001b[37m\u001b[0m \u001b[1m46s\u001b[0m 590ms/step - accuracy: 0.9644 - loss: 0.1012 - precision: 0.9699 - recall: 0.9604\n",
      "\u001b[1m244/244\u001b[0m \u001b[32m━━━━━━━━━━━━━━━━━━━━\u001b[0m\u001b[37m\u001b[0m \u001b[1m38s\u001b[0m 156ms/step\n",
      "Test accuracy: 0.9699845910072327\n",
      "Test precision: 0.9698163742148621\n",
      "Test recall: 0.969898572420692\n"
     ]
    }
   ],
   "source": [
    "os.makedirs(\"Models\", exist_ok=True)\n",
    "\n",
    "\n",
    "w2v_params = {\n",
    "    \"vector_size\": 300,    \n",
    "    \"window\": 5,     \n",
    "    \"min_count\": 5,  \n",
    "    \"workers\": 7     \n",
    "}\n",
    "\n",
    "cnn_params = {\n",
    "    \"embedding_size\": w2v_params[\"vector_size\"],\n",
    "    \"filter_sizes\": [3, 4, 5],\n",
    "    \"num_filters\": 128,\n",
    "    \"dropout_rate\": 0.5,\n",
    "    \"hidden_units\": 64,\n",
    "    \"batch_size\": 100,\n",
    "    \"epochs\": 5,\n",
    "    \"patience\": 3\n",
    "}\n",
    "\n",
    "train_texts, test_texts, train_topic, test_topic = train_test_split(df['Content'], df['Topic'], test_size=0.2, random_state=123)\n",
    "\n",
    "w2v_model = Word2Vec(sentences=train_texts, **w2v_params)\n",
    "w2v_model.save(\"Models/word2vec.model\")\n",
    "\n",
    "\n",
    "w2v_model = Word2Vec(sentences=train_texts, **w2v_params)\n",
    "w2v_model.save(\"Models/word2vec.model\")\n",
    "\n",
    "tokenizer = Tokenizer()\n",
    "tokenizer.fit_on_texts(train_texts)\n",
    "train_sequences = tokenizer.texts_to_sequences(train_texts)\n",
    "test_sequences = tokenizer.texts_to_sequences(test_texts)\n",
    "\n",
    "max_sequence_length = max([len(sequence) for sequence in train_sequences])\n",
    "train_data = pad_sequences(train_sequences, maxlen=max_sequence_length, padding=\"post\")\n",
    "test_data = pad_sequences(test_sequences, maxlen=max_sequence_length, padding=\"post\")\n",
    "\n",
    "topic_to_index = {topic: index for index, topic in enumerate(set(df['Topic']))}\n",
    "train_topic = [topic_to_index[topic] for topic in train_topic]\n",
    "test_topic = [topic_to_index[topic] for topic in test_topic]\n",
    "train_topic = np.eye(len(topic_to_index))[train_topic]\n",
    "test_topic = np.eye(len(topic_to_index))[test_topic]\n",
    "\n",
    "model = Sequential()\n",
    "model.add(Embedding(input_dim=len(tokenizer.word_index)+1, output_dim=cnn_params[\"embedding_size\"]))\n",
    "model.add(Conv1D(cnn_params[\"num_filters\"], cnn_params[\"filter_sizes\"][0], activation=\"relu\"))\n",
    "model.add(GlobalMaxPooling1D())\n",
    "model.add(Dropout(cnn_params[\"dropout_rate\"]))\n",
    "model.add(Dense(len(topic_to_index), activation=\"softmax\"))  # Change the number of units to match the number of classes\n",
    "\n",
    "model.compile(loss=\"categorical_crossentropy\", optimizer=\"adam\", metrics=[\"accuracy\", \"precision\", \"recall\"])\n",
    "\n",
    "early_stopping = EarlyStopping(monitor=\"val_loss\", patience=cnn_params[\"patience\"], mode=\"min\", restore_best_weights=True)\n",
    "model_checkpoint = ModelCheckpoint(\"Models/cnn_model.keras\", monitor=\"val_loss\", mode=\"min\", save_best_only=True)\n",
    "history = model.fit(train_data, train_topic, batch_size=cnn_params[\"batch_size\"], epochs=cnn_params[\"epochs\"], callbacks=[early_stopping, model_checkpoint], validation_split=0.2)\n",
    "\n",
    "test_loss, test_accuracy, test_precision, test_recall = model.evaluate(test_data, test_topic, batch_size=cnn_params[\"batch_size\"])\n",
    "test_predictions = model.predict(test_data)\n",
    "test_predictions = np.argmax(test_predictions, axis=1)\n",
    "test_topic = np.argmax(test_topic, axis=1)\n",
    "\n",
    "print(\"Test accuracy:\", test_accuracy)\n",
    "print(\"Test precision:\", precision_score(test_topic, test_predictions, average=\"macro\"))\n",
    "print(\"Test recall:\", recall_score(test_topic, test_predictions, average=\"macro\"))"
   ]
  },
  {
   "cell_type": "code",
   "execution_count": 7,
   "metadata": {},
   "outputs": [],
   "source": [
    "model.save(\"Models/cnn_model.keras\")"
   ]
  }
 ],
 "metadata": {
  "kernelspec": {
   "display_name": "cpsc330",
   "language": "python",
   "name": "python3"
  },
  "language_info": {
   "codemirror_mode": {
    "name": "ipython",
    "version": 3
   },
   "file_extension": ".py",
   "mimetype": "text/x-python",
   "name": "python",
   "nbconvert_exporter": "python",
   "pygments_lexer": "ipython3",
   "version": "3.10.11"
  }
 },
 "nbformat": 4,
 "nbformat_minor": 2
}
